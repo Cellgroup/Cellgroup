{
 "cells": [
  {
   "cell_type": "markdown",
   "metadata": {},
   "source": [
    "## Example of usage of the DataLoader"
   ]
  },
  {
   "cell_type": "code",
   "execution_count": null,
   "metadata": {},
   "outputs": [],
   "source": [
    "from cellgroup.data import InMemoryDataset\n",
    "from cellgroup.data.config import DatasetConfig\n",
    "from cellgroup.data.datasets.harvard import SampleIDHarvard, ChannelIDHarvard, get_fnames"
   ]
  },
  {
   "cell_type": "code",
   "execution_count": null,
   "metadata": {},
   "outputs": [],
   "source": [
    "dset_config = DatasetConfig(\n",
    "    samples=[SampleIDHarvard.A06],\n",
    "    channels=[ChannelIDHarvard.Ch1, ChannelIDHarvard.Ch13],\n",
    "    time_steps=(32, 42, 2),\n",
    "    img_dim=\"2D\",\n",
    "    patch_size=(256, 256),\n",
    ")"
   ]
  },
  {
   "cell_type": "code",
   "execution_count": null,
   "metadata": {},
   "outputs": [],
   "source": [
    "dset = InMemoryDataset(\n",
    "    data_dir=\"/group/jug/federico/data/Cellgroup\",\n",
    "    data_config=dset_config,\n",
    "    get_fnames_fn=get_fnames,\n",
    ")"
   ]
  },
  {
   "cell_type": "code",
   "execution_count": null,
   "metadata": {},
   "outputs": [],
   "source": [
    "dset.data.sizes, dset.data.shape"
   ]
  },
  {
   "cell_type": "code",
   "execution_count": null,
   "metadata": {},
   "outputs": [],
   "source": [
    "dset.patches.shape"
   ]
  }
 ],
 "metadata": {
  "kernelspec": {
   "display_name": "cellgroup_env",
   "language": "python",
   "name": "python3"
  },
  "language_info": {
   "codemirror_mode": {
    "name": "ipython",
    "version": 3
   },
   "file_extension": ".py",
   "mimetype": "text/x-python",
   "name": "python",
   "nbconvert_exporter": "python",
   "pygments_lexer": "ipython3",
   "version": "3.11.10"
  }
 },
 "nbformat": 4,
 "nbformat_minor": 2
}
