{
 "cells": [
  {
   "cell_type": "markdown",
   "metadata": {},
   "source": [
    "## Example of usage of the DataLoader"
   ]
  },
  {
   "cell_type": "code",
   "execution_count": null,
   "metadata": {},
   "outputs": [],
   "source": [
    "from cellgroup.data import InMemoryDataset\n",
    "from cellgroup.configs import DataConfig\n",
    "from cellgroup.data.datasets.harvard import SampleHarvard, ChannelHarvard, get_fnames"
   ]
  },
  {
   "cell_type": "markdown",
   "metadata": {},
   "source": [
    "### 1. Sequential patching"
   ]
  },
  {
   "cell_type": "code",
   "execution_count": null,
   "metadata": {},
   "outputs": [],
   "source": [
    "dset_config = DataConfig(\n",
    "    samples=[SampleHarvard.A06],\n",
    "    channels=[ChannelHarvard.Ch1, ChannelHarvard.Ch13],\n",
    "    time_steps=(32, 42, 2),\n",
    "    img_dim=\"2D\",\n",
    "    patch_size=(256, 256),\n",
    "    patch_overlap=None,\n",
    ")"
   ]
  },
  {
   "cell_type": "code",
   "execution_count": null,
   "metadata": {},
   "outputs": [],
   "source": [
    "dset = InMemoryDataset(\n",
    "    data_dir=\"/group/jug/federico/data/Cellgroup\",\n",
    "    data_config=dset_config,\n",
    "    get_fnames_fn=get_fnames,\n",
    ")"
   ]
  },
  {
   "cell_type": "code",
   "execution_count": null,
   "metadata": {},
   "outputs": [],
   "source": [
    "dset.data.shape"
   ]
  },
  {
   "cell_type": "code",
   "execution_count": null,
   "metadata": {},
   "outputs": [],
   "source": [
    "dset.patches.shape"
   ]
  },
  {
   "cell_type": "code",
   "execution_count": null,
   "metadata": {},
   "outputs": [],
   "source": [
    "len(dset)"
   ]
  },
  {
   "cell_type": "code",
   "execution_count": null,
   "metadata": {},
   "outputs": [],
   "source": [
    "patch, coords = dset[1123]"
   ]
  },
  {
   "cell_type": "code",
   "execution_count": null,
   "metadata": {},
   "outputs": [],
   "source": [
    "print(patch.shape)\n",
    "print(coords)"
   ]
  },
  {
   "cell_type": "code",
   "execution_count": null,
   "metadata": {},
   "outputs": [],
   "source": [
    "import matplotlib.pyplot as plt\n",
    "\n",
    "_, axes = plt.subplots(10, 10, figsize=(30, 30))\n",
    "for i, ax in enumerate(axes.flat):\n",
    "    patch, _ = dset[i]\n",
    "    ax.imshow(patch, cmap=\"viridis\")\n",
    "    ax.axis(\"off\")"
   ]
  },
  {
   "cell_type": "markdown",
   "metadata": {},
   "source": [
    "#### 2. Overlapped patching"
   ]
  },
  {
   "cell_type": "code",
   "execution_count": null,
   "metadata": {},
   "outputs": [],
   "source": [
    "dset_config = DataConfig(\n",
    "    samples=[SampleHarvard.A06],\n",
    "    channels=[ChannelHarvard.Ch1, ChannelHarvard.Ch13],\n",
    "    time_steps=(32, 42, 2),\n",
    "    img_dim=\"2D\",\n",
    "    patch_size=(256, 256),\n",
    "    patch_overlap=(128, 128),\n",
    ")"
   ]
  },
  {
   "cell_type": "code",
   "execution_count": null,
   "metadata": {},
   "outputs": [],
   "source": [
    "dset = InMemoryDataset(\n",
    "    data_dir=\"/group/jug/federico/data/Cellgroup\",\n",
    "    data_config=dset_config,\n",
    "    get_fnames_fn=get_fnames,\n",
    ")"
   ]
  },
  {
   "cell_type": "code",
   "execution_count": null,
   "metadata": {},
   "outputs": [],
   "source": [
    "dset.data.shape"
   ]
  },
  {
   "cell_type": "code",
   "execution_count": null,
   "metadata": {},
   "outputs": [],
   "source": [
    "dset.patches.shape"
   ]
  },
  {
   "cell_type": "code",
   "execution_count": null,
   "metadata": {},
   "outputs": [],
   "source": [
    "patch, coords = dset[333]"
   ]
  },
  {
   "cell_type": "code",
   "execution_count": null,
   "metadata": {},
   "outputs": [],
   "source": [
    "print(patch.shape)\n",
    "print(coords)"
   ]
  },
  {
   "cell_type": "code",
   "execution_count": null,
   "metadata": {},
   "outputs": [],
   "source": [
    "import matplotlib.pyplot as plt\n",
    "\n",
    "_, axes = plt.subplots(10, 10, figsize=(30, 30))\n",
    "for i, ax in enumerate(axes.flat):\n",
    "    patch, _ = dset[i]\n",
    "    ax.imshow(patch, cmap=\"viridis\")\n",
    "    ax.axis(\"off\")"
   ]
  },
  {
   "cell_type": "code",
   "execution_count": null,
   "metadata": {},
   "outputs": [],
   "source": []
  }
 ],
 "metadata": {
  "kernelspec": {
   "display_name": "cellgroup_tf",
   "language": "python",
   "name": "python3"
  },
  "language_info": {
   "codemirror_mode": {
    "name": "ipython",
    "version": 3
   },
   "file_extension": ".py",
   "mimetype": "text/x-python",
   "name": "python",
   "nbconvert_exporter": "python",
   "pygments_lexer": "ipython3",
   "version": "3.11.10"
  }
 },
 "nbformat": 4,
 "nbformat_minor": 2
}
