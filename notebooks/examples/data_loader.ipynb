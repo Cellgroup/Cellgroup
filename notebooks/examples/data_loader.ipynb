{
 "cells": [
  {
   "cell_type": "markdown",
   "metadata": {},
   "source": [
    "## Example of usage of the DataLoader"
   ]
  },
  {
   "cell_type": "code",
   "execution_count": null,
   "metadata": {},
   "outputs": [],
   "source": [
    "from cellgroup.data import InMemoryDataset\n",
    "from cellgroup.configs import DataConfig\n",
    "from cellgroup.data.datasets.harvard import SampleIDHarvard, ChannelIDHarvard, get_fnames"
   ]
  },
  {
   "cell_type": "markdown",
   "metadata": {},
   "source": [
    "### 1. Sequential patching"
   ]
  },
  {
   "cell_type": "code",
   "execution_count": null,
   "metadata": {},
   "outputs": [],
   "source": [
    "dset_config = DataConfig(\n",
    "    samples=[SampleIDHarvard.A06],\n",
    "    channels=[ChannelIDHarvard.Ch1, ChannelIDHarvard.Ch13],\n",
    "    time_steps=(32, 42, 2),\n",
    "    img_dim=\"2D\",\n",
    "    patch_size=(256, 256),\n",
    "    patch_overlap=None,\n",
    ")"
   ]
  },
  {
   "cell_type": "code",
   "execution_count": null,
   "metadata": {},
   "outputs": [],
   "source": [
    "dset = InMemoryDataset(\n",
    "    data_dir=\"/group/jug/federico/data/Cellgroup\",\n",
    "    data_config=dset_config,\n",
    "    get_fnames_fn=get_fnames,\n",
    ")"
   ]
  },
  {
   "cell_type": "code",
   "execution_count": null,
   "metadata": {},
   "outputs": [],
   "source": [
    "dset.data.shape"
   ]
  },
  {
   "cell_type": "code",
   "execution_count": null,
   "metadata": {},
   "outputs": [],
   "source": [
    "dset.patches.shape"
   ]
  },
  {
   "cell_type": "code",
   "execution_count": null,
   "metadata": {},
   "outputs": [],
   "source": [
    "import matplotlib.pyplot as plt\n",
    "\n",
    "_, axes = plt.subplots(10, 10, figsize=(30, 30))\n",
    "for i, ax in enumerate(axes.flat):\n",
    "    ax.imshow(dset.patches[i, 0, 0], cmap=\"viridis\")\n",
    "    ax.axis(\"off\")"
   ]
  },
  {
   "cell_type": "markdown",
   "metadata": {},
   "source": [
    "#### 2. Overlapped patching"
   ]
  },
  {
   "cell_type": "code",
   "execution_count": null,
   "metadata": {},
   "outputs": [],
   "source": [
    "dset_config = DataConfig(\n",
    "    samples=[SampleIDHarvard.A06],\n",
    "    channels=[ChannelIDHarvard.Ch1, ChannelIDHarvard.Ch13],\n",
    "    time_steps=(32, 42, 2),\n",
    "    img_dim=\"2D\",\n",
    "    patch_size=(256, 256),\n",
    "    patch_overlap=(128, 128),\n",
    ")"
   ]
  },
  {
   "cell_type": "code",
   "execution_count": null,
   "metadata": {},
   "outputs": [],
   "source": [
    "dset = InMemoryDataset(\n",
    "    data_dir=\"/group/jug/federico/data/Cellgroup\",\n",
    "    data_config=dset_config,\n",
    "    get_fnames_fn=get_fnames,\n",
    ")"
   ]
  },
  {
   "cell_type": "code",
   "execution_count": null,
   "metadata": {},
   "outputs": [],
   "source": [
    "dset.data.shape"
   ]
  },
  {
   "cell_type": "code",
   "execution_count": null,
   "metadata": {},
   "outputs": [],
   "source": [
    "dset.patches.shape"
   ]
  }
 ],
 "metadata": {
  "kernelspec": {
   "display_name": "cellgroup_tf",
   "language": "python",
   "name": "python3"
  },
  "language_info": {
   "codemirror_mode": {
    "name": "ipython",
    "version": 3
   },
   "file_extension": ".py",
   "mimetype": "text/x-python",
   "name": "python",
   "nbconvert_exporter": "python",
   "pygments_lexer": "ipython3",
   "version": "3.11.10"
  }
 },
 "nbformat": 4,
 "nbformat_minor": 2
}
