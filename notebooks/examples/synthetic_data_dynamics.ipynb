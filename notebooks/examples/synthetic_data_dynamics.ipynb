{
 "cells": [
  {
   "cell_type": "markdown",
   "metadata": {},
   "source": [
    "# Synthetic Data Dynamics\n",
    "\n",
    "Here we visualize the dynamics of our `Sample`, modelling division, death, ..."
   ]
  },
  {
   "cell_type": "code",
   "execution_count": 1,
   "metadata": {},
   "outputs": [],
   "source": [
    "import ndv\n",
    "import numpy as np\n",
    "import matplotlib.pyplot as plt\n",
    "\n",
    "from cellgroup.synthetic.nucleus import Nucleus\n",
    "from cellgroup.synthetic.cluster import Cluster\n",
    "from cellgroup.synthetic.sample import Sample\n",
    "from cellgroup.synthetic.space import Space\n",
    "from cellgroup.synthetic.utils import Status"
   ]
  },
  {
   "cell_type": "code",
   "execution_count": 2,
   "metadata": {},
   "outputs": [],
   "source": [
    "def plot_2D_rendering(img: np.ndarray, grid: bool = True):\n",
    "    \n",
    "    fig, ax = plt.subplots()\n",
    "    \n",
    "    # Display the matrix as an image\n",
    "    ax.imshow(img, cmap=\"gray\")\n",
    "\n",
    "    # Add grid lines\n",
    "    if grid:\n",
    "        ax.set_xticks(np.arange(0, img.shape[0], 1), minor=True)\n",
    "        ax.set_yticks(np.arange(0, img.shape[1], 1), minor=True)\n",
    "        ax.grid(which=\"minor\", color=\"red\", linestyle='-', linewidth=1)\n",
    "        ax.grid(which=\"major\", color=\"red\", linestyle='-', linewidth=1)"
   ]
  },
  {
   "cell_type": "markdown",
   "metadata": {},
   "source": [
    "### 1. Cell division"
   ]
  },
  {
   "cell_type": "markdown",
   "metadata": {},
   "source": [
    "2D case"
   ]
  },
  {
   "cell_type": "code",
   "execution_count": 3,
   "metadata": {},
   "outputs": [],
   "source": [
    "space = Space(size=(100, 100), scale=(1, 1))"
   ]
  },
  {
   "cell_type": "code",
   "execution_count": null,
   "metadata": {},
   "outputs": [],
   "source": [
    "nucleus = Nucleus(\n",
    "    idx=0,\n",
    "    time=0,\n",
    "    space=space,\n",
    "    centroid = (30, 30),\n",
    "    semi_axes=(8, 5),\n",
    "    theta=45,\n",
    ")"
   ]
  },
  {
   "cell_type": "code",
   "execution_count": 5,
   "metadata": {},
   "outputs": [],
   "source": [
    "d1, d2 = nucleus.divide()"
   ]
  },
  {
   "cell_type": "code",
   "execution_count": null,
   "metadata": {},
   "outputs": [],
   "source": [
    "type(d1), type(d2)"
   ]
  },
  {
   "cell_type": "code",
   "execution_count": null,
   "metadata": {},
   "outputs": [],
   "source": [
    "img1 = nucleus.render()\n",
    "img2 = d1.render()\n",
    "img3 = d2.render()"
   ]
  },
  {
   "cell_type": "code",
   "execution_count": null,
   "metadata": {},
   "outputs": [],
   "source": [
    "plot_2D_rendering(img1)"
   ]
  },
  {
   "cell_type": "code",
   "execution_count": null,
   "metadata": {},
   "outputs": [],
   "source": [
    "img = img2 + img3\n",
    "img.shape"
   ]
  },
  {
   "cell_type": "code",
   "execution_count": null,
   "metadata": {},
   "outputs": [],
   "source": [
    "nucleus._size"
   ]
  },
  {
   "cell_type": "code",
   "execution_count": null,
   "metadata": {},
   "outputs": [],
   "source": [
    "plot_2D_rendering(img)"
   ]
  },
  {
   "cell_type": "code",
   "execution_count": null,
   "metadata": {},
   "outputs": [],
   "source": [
    "d1._size + d2._size"
   ]
  },
  {
   "cell_type": "markdown",
   "metadata": {},
   "source": [
    "3D case"
   ]
  },
  {
   "cell_type": "code",
   "execution_count": 14,
   "metadata": {},
   "outputs": [],
   "source": [
    "space = Space(size=(100, 100, 100), scale=(1, 1, 1))"
   ]
  },
  {
   "cell_type": "code",
   "execution_count": 15,
   "metadata": {},
   "outputs": [],
   "source": [
    "nucleus = Nucleus(\n",
    "    idx=0,\n",
    "    time=0,\n",
    "    space=space,\n",
    "    centroid = (30, 30, 30),\n",
    "    semi_axes=(8, 5, 12),\n",
    "    theta=0,\n",
    ")"
   ]
  },
  {
   "cell_type": "code",
   "execution_count": 16,
   "metadata": {},
   "outputs": [],
   "source": [
    "d1, d2 = nucleus.divide()"
   ]
  },
  {
   "cell_type": "code",
   "execution_count": 17,
   "metadata": {},
   "outputs": [],
   "source": [
    "img1 = nucleus.render()\n",
    "img2 = d1.render()\n",
    "img3 = d2.render()"
   ]
  },
  {
   "cell_type": "code",
   "execution_count": null,
   "metadata": {},
   "outputs": [],
   "source": [
    "v = ndv.imshow(img1.astype(np.uint8))"
   ]
  },
  {
   "cell_type": "code",
   "execution_count": null,
   "metadata": {},
   "outputs": [],
   "source": [
    "v2 = ndv.imshow((img2 + img3).astype(np.uint8))"
   ]
  },
  {
   "cell_type": "markdown",
   "metadata": {},
   "source": [
    "### 2. Test `update()` for a `Nucleus`"
   ]
  },
  {
   "cell_type": "code",
   "execution_count": 20,
   "metadata": {},
   "outputs": [],
   "source": [
    "space = Space(size=(100, 100), scale=(1, 1))"
   ]
  },
  {
   "cell_type": "code",
   "execution_count": 21,
   "metadata": {},
   "outputs": [],
   "source": [
    "nucleus = Nucleus(\n",
    "    idx=0,\n",
    "    time=0,\n",
    "    space=space,\n",
    "    centroid = (30, 30),\n",
    "    semi_axes=(5, 12),\n",
    "    theta=0,\n",
    ")"
   ]
  },
  {
   "cell_type": "markdown",
   "metadata": {},
   "source": [
    "Prior update"
   ]
  },
  {
   "cell_type": "code",
   "execution_count": null,
   "metadata": {},
   "outputs": [],
   "source": [
    "plot_2D_rendering(nucleus.render())"
   ]
  },
  {
   "cell_type": "markdown",
   "metadata": {},
   "source": [
    "After update"
   ]
  },
  {
   "cell_type": "code",
   "execution_count": null,
   "metadata": {},
   "outputs": [],
   "source": [
    "nucleus.update()"
   ]
  },
  {
   "cell_type": "code",
   "execution_count": null,
   "metadata": {},
   "outputs": [],
   "source": [
    "plot_2D_rendering(nucleus.render())"
   ]
  },
  {
   "cell_type": "markdown",
   "metadata": {},
   "source": [
    "### 3. Test `Cluster` update"
   ]
  },
  {
   "cell_type": "code",
   "execution_count": 25,
   "metadata": {},
   "outputs": [],
   "source": [
    "space = Space(size=(500, 500), scale=(1, 1))"
   ]
  },
  {
   "cell_type": "code",
   "execution_count": 26,
   "metadata": {},
   "outputs": [],
   "source": [
    "cluster = Cluster.create_random_cluster(\n",
    "    time=0,\n",
    "    idx=0,\n",
    "    space=space,\n",
    "    n_nuclei=20,\n",
    "    center=(200, 200),\n",
    "    radii=(150, 150),\n",
    "    semi_axes_range=(5, 15), \n",
    ")"
   ]
  },
  {
   "cell_type": "code",
   "execution_count": null,
   "metadata": {},
   "outputs": [],
   "source": [
    "plot_2D_rendering(cluster.render(), False)"
   ]
  },
  {
   "cell_type": "markdown",
   "metadata": {},
   "source": [
    "Update"
   ]
  },
  {
   "cell_type": "code",
   "execution_count": 28,
   "metadata": {},
   "outputs": [],
   "source": [
    "cluster.update()"
   ]
  },
  {
   "cell_type": "code",
   "execution_count": null,
   "metadata": {},
   "outputs": [],
   "source": [
    "plot_2D_rendering(cluster.render(), False)"
   ]
  },
  {
   "cell_type": "markdown",
   "metadata": {},
   "source": [
    "### 4. Test `Sample` update"
   ]
  },
  {
   "cell_type": "code",
   "execution_count": 30,
   "metadata": {},
   "outputs": [],
   "source": [
    "space = Space(size=(500, 500, 500), scale=(1, 1, 1))"
   ]
  },
  {
   "cell_type": "code",
   "execution_count": 31,
   "metadata": {},
   "outputs": [],
   "source": [
    "sample = Sample.create_random_sample(\n",
    "    space=space,\n",
    "    time=0,\n",
    "    n_clusters=3,\n",
    "    cluster_centers=[(80, 80, 80), (300, 300, 300), (400, 400, 400)],\n",
    "    cluster_radii=[(50, 50, 50), (50, 50, 50), (50, 50, 50)],\n",
    "    nuclei_per_cluster_range=[3, 10],\n",
    "    nuclei_semi_axes_range=(5, 10),\n",
    ")"
   ]
  },
  {
   "cell_type": "code",
   "execution_count": null,
   "metadata": {},
   "outputs": [],
   "source": [
    "img = sample.render()"
   ]
  },
  {
   "cell_type": "code",
   "execution_count": null,
   "metadata": {},
   "outputs": [],
   "source": [
    "view = ndv.imshow(img)"
   ]
  },
  {
   "cell_type": "markdown",
   "metadata": {},
   "source": [
    "Update sample"
   ]
  },
  {
   "cell_type": "code",
   "execution_count": 7,
   "metadata": {},
   "outputs": [],
   "source": [
    "sample.update()"
   ]
  },
  {
   "cell_type": "code",
   "execution_count": null,
   "metadata": {},
   "outputs": [],
   "source": [
    "img_updated = sample.render()"
   ]
  },
  {
   "cell_type": "code",
   "execution_count": null,
   "metadata": {},
   "outputs": [],
   "source": [
    "view_updated = ndv.imshow(img_updated)"
   ]
  },
  {
   "cell_type": "markdown",
   "metadata": {},
   "source": []
  }
 ],
 "metadata": {
  "kernelspec": {
   "display_name": "cellgroup_env",
   "language": "python",
   "name": "python3"
  },
  "language_info": {
   "codemirror_mode": {
    "name": "ipython",
    "version": 3
   },
   "file_extension": ".py",
   "mimetype": "text/x-python",
   "name": "python",
   "nbconvert_exporter": "python",
   "pygments_lexer": "ipython3",
   "version": "3.11.10"
  }
 },
 "nbformat": 4,
 "nbformat_minor": 2
}
